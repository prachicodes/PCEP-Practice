{
 "cells": [
  {
   "cell_type": "code",
   "execution_count": 1,
   "id": "344d3f87-b0bd-4711-9a63-1e54b95c53f7",
   "metadata": {},
   "outputs": [],
   "source": [
    "import pandas as pd"
   ]
  },
  {
   "cell_type": "code",
   "execution_count": 3,
   "id": "35f45c29-e923-4a93-8e08-7c08aa5606b8",
   "metadata": {},
   "outputs": [
    {
     "name": "stdout",
     "output_type": "stream",
     "text": [
      "I'm Prachi!\n"
     ]
    }
   ],
   "source": [
    "print('I\\'m Prachi!')"
   ]
  },
  {
   "cell_type": "code",
   "execution_count": null,
   "id": "c7acb8ed-464c-45ec-9110-28e0a24d17fb",
   "metadata": {},
   "outputs": [],
   "source": [
    "#Variables \n",
    "#1. For boolean use True not true \n",
    "#2. 4.0 is same as 4. \n",
    "\n",
    "print (4.0)\n",
    "print(4.)\n",
    "\n",
    "#######################################################\n",
    "#######################################################\n",
    "var1 = 'greeting'\n",
    "var2 = 'Greeting'\n",
    "#these are diff variable thus variables are case sensitive \n",
    "\n",
    "\n"
   ]
  },
  {
   "cell_type": "code",
   "execution_count": 163,
   "id": "6af3dea5-c426-4049-b3ca-f76403708c7e",
   "metadata": {},
   "outputs": [
    {
     "name": "stdout",
     "output_type": "stream",
     "text": [
      "False\n"
     ]
    }
   ],
   "source": [
    "list = [ False,True, \"2\", 3,4,5]\n",
    "#b = list[0] \n",
    "#b = 0 not in list\n",
    "b = 0 in list\n",
    "#b = False\n",
    "print(b)\n",
    "\n",
    "#thus 0 & false are same///1 & True are same "
   ]
  },
  {
   "cell_type": "code",
   "execution_count": 165,
   "id": "e4607165-2790-4955-bba6-07e33a3ceaa9",
   "metadata": {},
   "outputs": [
    {
     "name": "stdout",
     "output_type": "stream",
     "text": [
      "(2, 3)\n"
     ]
    }
   ],
   "source": [
    "#Tuples are ordered collection of elements & is immuatble (we cannot perform any modifications to the elements) \n",
    "tuple = (2, 3)\n",
    "#tuple[1] = tuple[1] + tuple [0]\n",
    "print (tuple)\n"
   ]
  },
  {
   "cell_type": "code",
   "execution_count": 175,
   "id": "104f231e-17e5-44d6-949f-490d9fb47314",
   "metadata": {},
   "outputs": [
    {
     "name": "stdout",
     "output_type": "stream",
     "text": [
      "[1, 0, 1, 2]\n",
      "[1, 1, 2]\n"
     ]
    }
   ],
   "source": [
    "x = [0,1,2] \n",
    "x.insert(0,1)\n",
    "print(x)\n",
    "\n",
    "del x[1]\n",
    "print(x)"
   ]
  },
  {
   "cell_type": "code",
   "execution_count": 177,
   "id": "3c2e397f-5e0c-40d5-9203-461d8d47a2bb",
   "metadata": {},
   "outputs": [
    {
     "name": "stdout",
     "output_type": "stream",
     "text": [
      "[1, 3]\n",
      "[1, 3]\n",
      "[4, 3]\n",
      "[4, 3]\n"
     ]
    }
   ],
   "source": [
    "list1 = [1,3] \n",
    "list2 = list1\n",
    "print(list1) \n",
    "print(list2)\n",
    "\n",
    "list1[0] = 4\n",
    "print(list1)\n",
    "print(list2)\n",
    "\n",
    "#In the above case both list1 & list2 points to same location in memory thus any change made in list1 will be reflected in list 2 "
   ]
  },
  {
   "cell_type": "code",
   "execution_count": 193,
   "id": "d7f179c1-9800-43b5-a7ee-48f2fbf9a2c5",
   "metadata": {},
   "outputs": [
    {
     "name": "stdout",
     "output_type": "stream",
     "text": [
      "[404, 3.03]\n",
      "[1, 3, 5, 7, 9]\n",
      "[1, 4, 7]\n",
      "[1, 2, 3, 4, 5, 6, 7, 8, 9]\n",
      "[1, 2, 3, 4, 5, 6, 7, 8, 9]\n"
     ]
    }
   ],
   "source": [
    "#SLICING\n",
    "A = [\"PETER\", 404, 3.03,\"PRACHI\" ,33.3]\n",
    "print(A[1:3])\n",
    "#n:N-1\n",
    "\n",
    "#######################################################\n",
    "\n",
    "a = [1,2,3,4,5,6,7,8,9]\n",
    "print(a[::2])\n",
    "print(a[::3]) #will print list with set3p = 3 (will print 3rd element)\n",
    "print(a[::1]) # will print list with step =1 \n",
    "print(a[::]) # will print whole list"
   ]
  },
  {
   "cell_type": "code",
   "execution_count": 195,
   "id": "e2d7cde0-e1af-40f9-8f0a-4531dfea7683",
   "metadata": {},
   "outputs": [
    {
     "name": "stdout",
     "output_type": "stream",
     "text": [
      "{'1': (1, 2), '2': (2, 1)}\n",
      "2\n",
      "1\n"
     ]
    }
   ],
   "source": [
    "#DICTONARY\n",
    "dct ={}\n",
    "dct['1'] = (1,2)\n",
    "dct['2'] = (2,1)\n",
    "print(dct)\n",
    "\n",
    "for x in dct.keys():\n",
    "    print(dct[x][1])\n"
   ]
  },
  {
   "cell_type": "code",
   "execution_count": 201,
   "id": "79dfef06-53b9-4042-8668-e97ab852b82d",
   "metadata": {},
   "outputs": [
    {
     "name": "stdout",
     "output_type": "stream",
     "text": [
      "{1: 1}\n",
      "{1: 1, '1': 2}\n",
      "{1: 2, '1': 2}\n",
      "4\n"
     ]
    }
   ],
   "source": [
    "#DICT: QUESTION \n",
    "d ={}\n",
    "d[1] = 1\n",
    "print(d)\n",
    "\n",
    "d['1'] = 2\n",
    "print(d)\n",
    "\n",
    "d[1] += 1\n",
    "print(d)\n",
    "\n",
    "sum = 0 \n",
    "for k in d: \n",
    "    sum = sum + d[k]\n",
    "print(sum)"
   ]
  },
  {
   "cell_type": "code",
   "execution_count": 197,
   "id": "210db6e7-6445-45dc-97d3-f63fef8c94bd",
   "metadata": {},
   "outputs": [
    {
     "name": "stdout",
     "output_type": "stream",
     "text": [
      "83\n",
      "74565\n"
     ]
    }
   ],
   "source": [
    "#NUMBER SYSTEM \n",
    "#octal number - begins with 0O. Only can use 1 -7. \n",
    "print(0O123)\n",
    "\n",
    "#######################################################\n",
    "\n",
    "#hexadecimal numbers - beigns with 0X or 0x\n",
    "print(0x12345) #print function will convert to decimal numbers "
   ]
  },
  {
   "cell_type": "code",
   "execution_count": 203,
   "id": "a4e6735c-940f-42e2-8c1e-8082f177dea7",
   "metadata": {},
   "outputs": [
    {
     "name": "stdout",
     "output_type": "stream",
     "text": [
      "3.5\n",
      "1\n",
      "8\n",
      "3\n"
     ]
    }
   ],
   "source": [
    "#Operators \n",
    "\n",
    "div = 7/2\n",
    "mod = 7%2 #will print remainder \n",
    "pow = 2**3\n",
    "ex = 7//2 ## // will print the divison to lowest integer \n",
    "print(div)\n",
    "print(mod)\n",
    "print(pow)\n",
    "print(ex)"
   ]
  },
  {
   "cell_type": "code",
   "execution_count": 205,
   "id": "b4971514-a7aa-4fef-b0c0-e0d111b2d0ee",
   "metadata": {},
   "outputs": [
    {
     "data": {
      "text/plain": [
       "6"
      ]
     },
     "execution_count": 205,
     "metadata": {},
     "output_type": "execute_result"
    }
   ],
   "source": [
    "len('prachi')"
   ]
  },
  {
   "cell_type": "code",
   "execution_count": 207,
   "id": "9c6bf3ab-4157-4719-b69e-d1c0589ee952",
   "metadata": {},
   "outputs": [
    {
     "name": "stdout",
     "output_type": "stream",
     "text": [
      "Prachi is 27 years old.Prachi & Megha are-sisters\n"
     ]
    }
   ],
   "source": [
    "#Keyword arguments / Named arguments\n",
    "# can be used at the end of function location (eg. end). They are optional and must have defualt values. \n",
    "print('Prachi is 27 years old', end = '.')\n",
    "\n",
    "print('Prachi & Megha are', 'sisters', sep = '-')"
   ]
  },
  {
   "cell_type": "code",
   "execution_count": null,
   "id": "2263345f-2a33-4ceb-b88f-b41ed42429f5",
   "metadata": {},
   "outputs": [],
   "source": [
    "#bit operators \n",
    "1 byte = 8 bits \n",
    "1 kilobyte(kb) = 1000 bytes = 8000 bits or (1024) bytes \n",
    "1 megabyte(mb) = 100000 bytes = 8000,000 bytes(8million) \n",
    "\n",
    "#6 bitwise opeators \n",
    "first = 1 \n",
    "second = 0 \n"
   ]
  },
  {
   "cell_type": "code",
   "execution_count": 209,
   "id": "1d632a0a-2eb9-457b-98a8-7a77925bf88e",
   "metadata": {},
   "outputs": [
    {
     "name": "stdout",
     "output_type": "stream",
     "text": [
      "1 0\n",
      "0\n",
      "1\n",
      "1\n",
      "-2\n"
     ]
    }
   ],
   "source": [
    "#6 bitwise opeators \n",
    "first = 1 \n",
    "second = 0 \n",
    "print(first, second)\n",
    "print(first & second) #AND operator (both should be 1)\n",
    "print( first | second) #OR operator (atleast 1 should be 1) \n",
    "print( first ^ second) #carat(logical xor) \n",
    "#XOR truth table \n",
    "#0 0 = 0 \n",
    "#1 1 = 0 \n",
    "#1 0 = 1\n",
    "#0 1 = 1\n",
    "print(~first) #~ = -x-1 this is NOT "
   ]
  },
  {
   "cell_type": "code",
   "execution_count": 211,
   "id": "4061a5b8-0281-4934-9a25-2114f961adde",
   "metadata": {},
   "outputs": [
    {
     "name": "stdout",
     "output_type": "stream",
     "text": [
      "24\n",
      "48\n",
      "96\n"
     ]
    }
   ],
   "source": [
    "#left shift \n",
    "print(12<<1) # multiply by 2 \n",
    "print(12<<2) # multiply by 4 \n",
    "print(12<<3)# multiply by 8 "
   ]
  },
  {
   "cell_type": "code",
   "execution_count": 213,
   "id": "ff16b808-fec5-4860-91dc-69c0a15119b8",
   "metadata": {},
   "outputs": [
    {
     "name": "stdout",
     "output_type": "stream",
     "text": [
      "6\n",
      "3\n",
      "1\n",
      "0\n"
     ]
    }
   ],
   "source": [
    "#right shift \n",
    "print ( 12>>1) #og value divided by 2 \n",
    "print ( 12>>2) # divide by 2 means divide by 4 \n",
    "print ( 12>>3) #divide by 8 \n",
    "print ( 12>>4)"
   ]
  },
  {
   "cell_type": "code",
   "execution_count": 215,
   "id": "26be61db-beab-4a04-a56c-9669aff6c93b",
   "metadata": {},
   "outputs": [
    {
     "name": "stdout",
     "output_type": "stream",
     "text": [
      "1\n",
      "2\n",
      "3\n",
      "4\n",
      "5\n",
      "6\n",
      "7\n",
      "8\n",
      "9\n",
      "10\n",
      "11\n"
     ]
    },
    {
     "ename": "TypeError",
     "evalue": "'int' object is not iterable",
     "output_type": "error",
     "traceback": [
      "\u001b[0;31m---------------------------------------------------------------------------\u001b[0m",
      "\u001b[0;31mTypeError\u001b[0m                                 Traceback (most recent call last)",
      "Cell \u001b[0;32mIn[215], line 9\u001b[0m\n\u001b[1;32m      6\u001b[0m \u001b[38;5;28mprint\u001b[39m(count)\n\u001b[1;32m      8\u001b[0m i \u001b[38;5;241m=\u001b[39m \u001b[38;5;241m1\u001b[39m \n\u001b[0;32m----> 9\u001b[0m \u001b[38;5;28;01mfor\u001b[39;00m i \u001b[38;5;129;01min\u001b[39;00m \u001b[38;5;241m10\u001b[39m: \n\u001b[1;32m     10\u001b[0m     i \u001b[38;5;241m=\u001b[39m i\u001b[38;5;241m+\u001b[39m\u001b[38;5;241m1\u001b[39m\n\u001b[1;32m     11\u001b[0m     \u001b[38;5;28mprint\u001b[39m(i)\n",
      "\u001b[0;31mTypeError\u001b[0m: 'int' object is not iterable"
     ]
    }
   ],
   "source": [
    "#while loop \n",
    "count = 1\n",
    "while count<11:\n",
    "    print(count)\n",
    "    count = count+ 1\n",
    "print(count)\n",
    "\n",
    "i = 1 \n",
    "for i in 10: \n",
    "    i = i+1\n",
    "    print(i)"
   ]
  },
  {
   "cell_type": "code",
   "execution_count": 221,
   "id": "5b2e986f-c22a-438a-9f38-a9946b3ccfe1",
   "metadata": {},
   "outputs": [
    {
     "name": "stdout",
     "output_type": "stream",
     "text": [
      "1\n",
      "2\n",
      "3\n",
      "4\n",
      "5\n",
      "6\n",
      "7\n",
      "8\n",
      "9\n",
      "10\n"
     ]
    }
   ],
   "source": [
    "#for loop\n",
    "i = 0\n",
    "for i in range(0,10): \n",
    "    i = i+1\n",
    "    print(i)"
   ]
  },
  {
   "cell_type": "code",
   "execution_count": 223,
   "id": "7de0d789-9b47-44c0-9560-4234115ca958",
   "metadata": {},
   "outputs": [
    {
     "name": "stdout",
     "output_type": "stream",
     "text": [
      "P\n",
      "r\n",
      "a\n",
      "c\n",
      "h\n",
      "i\n"
     ]
    }
   ],
   "source": [
    "for letter in 'Prachi':\n",
    "    print(letter) "
   ]
  },
  {
   "cell_type": "code",
   "execution_count": 225,
   "id": "942b207b-e140-45de-a1a1-350ffaab04da",
   "metadata": {},
   "outputs": [],
   "source": [
    "for i in range(1,10): \n",
    "    pass"
   ]
  },
  {
   "cell_type": "code",
   "execution_count": 227,
   "id": "1e4c2851-9951-4ff2-99c5-e3ce5c14c95e",
   "metadata": {},
   "outputs": [
    {
     "name": "stdout",
     "output_type": "stream",
     "text": [
      "else 5\n"
     ]
    }
   ],
   "source": [
    "# in loop else will be printed once (exception is break statement) \n",
    "i = 5\n",
    "if i<5:\n",
    "    print(i)\n",
    "    i = i+1 \n",
    "else: \n",
    "    print('else', i)"
   ]
  },
  {
   "cell_type": "code",
   "execution_count": 229,
   "id": "8a4ffdb5-4fe9-4514-8ad2-51a2678ebc65",
   "metadata": {},
   "outputs": [
    {
     "name": "stdout",
     "output_type": "stream",
     "text": [
      "*\n"
     ]
    }
   ],
   "source": [
    "i = 0\n",
    "while i <= 10:\n",
    "    i += 1\n",
    "    if i % 2 == 0:\n",
    "        break\n",
    "    print('*')"
   ]
  },
  {
   "cell_type": "code",
   "execution_count": 235,
   "id": "f4b4e333-2482-4ce2-a7ff-cded5b941a84",
   "metadata": {},
   "outputs": [
    {
     "name": "stdout",
     "output_type": "stream",
     "text": [
      "True\n"
     ]
    }
   ],
   "source": [
    "x = 1\n",
    "x = x == x\n",
    "\n",
    "print(x)"
   ]
  },
  {
   "cell_type": "code",
   "execution_count": 237,
   "id": "1cbf78f1-f4ce-4f52-9c57-42e08f7bdb46",
   "metadata": {},
   "outputs": [
    {
     "name": "stdout",
     "output_type": "stream",
     "text": [
      "True\n"
     ]
    }
   ],
   "source": [
    "a = 5\n",
    "b = 1\n",
    "c = a > b or b < a and a == 1\n",
    "print(c)\n"
   ]
  },
  {
   "cell_type": "code",
   "execution_count": 239,
   "id": "8321299b-360c-4179-bd2b-f079728754eb",
   "metadata": {},
   "outputs": [
    {
     "name": "stdout",
     "output_type": "stream",
     "text": [
      "1-2-3-5-6-7-9-10-11-"
     ]
    }
   ],
   "source": [
    "for i in range (1, 12): \n",
    "    if i% 4 ==0 :\n",
    "        continue\n",
    "    print(i, end = '-')"
   ]
  },
  {
   "cell_type": "code",
   "execution_count": 241,
   "id": "5cfe8f2f-c09c-41f3-8f94-148829a37df3",
   "metadata": {},
   "outputs": [
    {
     "name": "stdout",
     "output_type": "stream",
     "text": [
      "[1, 2, 3, 4, 5]\n",
      "['Prachi', 'Megha']\n",
      "1\n",
      "Prachi\n",
      "5\n",
      "[1, 2]\n",
      "[3, 4, 5]\n",
      "[1, 2]\n",
      "Prachi\n",
      "['Prachi']\n"
     ]
    }
   ],
   "source": [
    "#lists: multiple values of same type - numbering start at 0 \n",
    "list1 = []\n",
    "list1 = [1,2,3,4,5]\n",
    "print (list1)\n",
    "\n",
    "list2 = ['Prachi','Megha']\n",
    "print(list2)\n",
    "\n",
    "print (list1[0])\n",
    "print (list2[0])\n",
    "\n",
    "print(list1[-1]) #we can use -ve numbering - 1 will get the last element \n",
    "print (list1[:2])\n",
    "print (list1[2:])\n",
    "print(list1 [0:2]) # second number is excluded n-1 \n",
    "\n",
    "\n",
    "print(list2[0]) # this will fetch us the value of the list\n",
    "print(list2[0:1]) #if we slice it will fetch us a list of the value "
   ]
  },
  {
   "cell_type": "code",
   "execution_count": 243,
   "id": "26d02bbe-0f9c-4ca1-828f-47205b8d40b8",
   "metadata": {},
   "outputs": [
    {
     "name": "stdout",
     "output_type": "stream",
     "text": [
      "['Megha', 'Saurabh']\n"
     ]
    }
   ],
   "source": [
    "#deleting \n",
    "list3 = ['Prachi','Megha','Saurabh']\n",
    "del list3[0]\n",
    "print(list3)"
   ]
  },
  {
   "cell_type": "code",
   "execution_count": 247,
   "id": "3a644e47-91eb-4de4-a6e6-b8777d2bda75",
   "metadata": {},
   "outputs": [
    {
     "ename": "NameError",
     "evalue": "name 'list3' is not defined",
     "output_type": "error",
     "traceback": [
      "\u001b[0;31m---------------------------------------------------------------------------\u001b[0m",
      "\u001b[0;31mNameError\u001b[0m                                 Traceback (most recent call last)",
      "Cell \u001b[0;32mIn[247], line 3\u001b[0m\n\u001b[1;32m      1\u001b[0m \u001b[38;5;66;03m#if we dleete a list and then try to print it - it will show an error \u001b[39;00m\n\u001b[1;32m      2\u001b[0m \u001b[38;5;28;01mdel\u001b[39;00m list3 \n\u001b[0;32m----> 3\u001b[0m \u001b[38;5;28mprint\u001b[39m(list3)\n",
      "\u001b[0;31mNameError\u001b[0m: name 'list3' is not defined"
     ]
    }
   ],
   "source": [
    "#if we dleete a list and then try to print it - it will show an error \n",
    "del list3 \n",
    "print(list3)"
   ]
  },
  {
   "cell_type": "code",
   "execution_count": 249,
   "id": "ce5afb61-1fcc-457f-8559-081533cf63f4",
   "metadata": {},
   "outputs": [
    {
     "data": {
      "text/plain": [
       "[1, 2, 3, 4, 5, 6]"
      ]
     },
     "execution_count": 249,
     "metadata": {},
     "output_type": "execute_result"
    }
   ],
   "source": [
    "#add neew element \n",
    "list1.append(6)\n",
    "list1"
   ]
  },
  {
   "cell_type": "code",
   "execution_count": 251,
   "id": "c44c167a-c3e4-4e83-8918-f0eac885bf5e",
   "metadata": {},
   "outputs": [
    {
     "name": "stdout",
     "output_type": "stream",
     "text": [
      "[1, 2, 3, 4, 5, 6, 7, 8, 9, 10]\n"
     ]
    }
   ],
   "source": [
    "#append\n",
    "i=0\n",
    "list_new = [1, 2, 3, 4, 5, 6]\n",
    "for i in range(6,10):\n",
    "    i = i+1 \n",
    "    list_new.append(i)\n",
    "print(list_new)\n",
    "#methods are function that belong to specific data -> append is a method that belongs to list_new "
   ]
  },
  {
   "cell_type": "code",
   "execution_count": 253,
   "id": "02b76a22-9eaf-4813-85b3-080a991c43f6",
   "metadata": {},
   "outputs": [
    {
     "name": "stdout",
     "output_type": "stream",
     "text": [
      "[0, 1, 2, 3, 4, 5, 6, 7, 8, 9, 10]\n"
     ]
    }
   ],
   "source": [
    "#Insert - it helps us insert a value at given index \n",
    "list_new.insert(0,0)\n",
    "print(list_new)"
   ]
  },
  {
   "cell_type": "code",
   "execution_count": 255,
   "id": "fcf651bd-9b79-40ec-acb9-781123b256cb",
   "metadata": {},
   "outputs": [
    {
     "name": "stdout",
     "output_type": "stream",
     "text": [
      "0\n",
      "1\n",
      "2\n",
      "3\n"
     ]
    }
   ],
   "source": [
    "lo = ['Soro', 'Sona', 'Bubu', 'cutu']\n",
    "for x in range(len(lo)):\n",
    "    print (x) \n",
    "#this will print the index position of list "
   ]
  },
  {
   "cell_type": "code",
   "execution_count": 257,
   "id": "7f4d4949-7e4b-49c6-ae00-d142b56b1df3",
   "metadata": {},
   "outputs": [
    {
     "name": "stdout",
     "output_type": "stream",
     "text": [
      "Soro\n",
      "Sona\n",
      "Bubu\n",
      "cutu\n"
     ]
    }
   ],
   "source": [
    "lo = ['Soro', 'Sona', 'Bubu', 'cutu']\n",
    "for x in lo:\n",
    "    print (x) \n",
    "#this will print the actual eelemnts of a list "
   ]
  },
  {
   "cell_type": "code",
   "execution_count": 259,
   "id": "891cb19b-f989-4d84-ae2f-a7652e005ed3",
   "metadata": {},
   "outputs": [
    {
     "name": "stdout",
     "output_type": "stream",
     "text": [
      "Index is 0 Elemet at index is Soro\n",
      "Index is 1 Elemet at index is Sona\n",
      "Index is 2 Elemet at index is Bubu\n",
      "Index is 3 Elemet at index is cutu\n"
     ]
    }
   ],
   "source": [
    "for i in range(len(lo)):\n",
    "    print('Index is', i, 'Elemet at index is', lo[i])\n",
    "    #print(lo[x])"
   ]
  },
  {
   "cell_type": "raw",
   "id": "7ccc94b9-2fb4-45aa-b904-498a59ffdbeb",
   "metadata": {},
   "source": [
    "#Coding questions"
   ]
  },
  {
   "cell_type": "code",
   "execution_count": 261,
   "id": "354e34fc-ee2e-45a9-a4f7-4a6ff3452d81",
   "metadata": {},
   "outputs": [
    {
     "name": "stdout",
     "output_type": "stream",
     "text": [
      "36\n"
     ]
    }
   ],
   "source": [
    "#sum all elemnets of a list \n",
    "li_sum = [1,2,3,4,5,6,7,8,9]\n",
    "sum = 0\n",
    "for i in range(len(li_sum)):\n",
    "    sum = sum +i \n",
    "print(sum)"
   ]
  },
  {
   "cell_type": "code",
   "execution_count": 263,
   "id": "5df078f4-18af-47e9-9f16-55b4b98c854b",
   "metadata": {},
   "outputs": [
    {
     "name": "stdout",
     "output_type": "stream",
     "text": [
      "9\n"
     ]
    }
   ],
   "source": [
    "#largest element of list \n",
    "li_sum = [1,2,3,4,5,6,7,8,9]\n",
    "max = li_sum[0]\n",
    "\n",
    "for i in range(len(li_sum)+1):\n",
    "    if i >  max:\n",
    "        max = i \n",
    "print(max)"
   ]
  },
  {
   "cell_type": "code",
   "execution_count": null,
   "id": "3810bb59-de4a-4e4e-8028-ca84e085b2ae",
   "metadata": {},
   "outputs": [],
   "source": [
    "#Count Occurrences of an Element \n",
    "li_o = [1,2,2,3,4,5,5,5,6,7]\n",
    "count = 0\n",
    "\n",
    "for i in li_o:\n",
    "    if i == 5:\n",
    "        count = count + 1\n",
    "print(count)"
   ]
  },
  {
   "cell_type": "code",
   "execution_count": null,
   "id": "1eb3cf6e-8dd4-4fcb-9fb1-35c92032726e",
   "metadata": {},
   "outputs": [],
   "source": [
    "#Count Occurrences of all Element \n",
    "li_o = [1,2,2,3]\n",
    "c_1 = 0 \n",
    "c_2 = 0 \n",
    "c_3 = 0 \n",
    "\n",
    "for i in li_o:\n",
    "    if i == 1:\n",
    "        c_1 = c_1 + 1 \n",
    "    elif i ==2:\n",
    "        c_2 = c_2 + 1 \n",
    "    elif i ==3:\n",
    "        c_3 = c_3 + 1 \n",
    "\n",
    "print(c_1)\n",
    "print(c_2)\n",
    "print(c_3)"
   ]
  },
  {
   "cell_type": "code",
   "execution_count": null,
   "id": "e923f46e-dd1f-4f83-8098-423435ab11fb",
   "metadata": {},
   "outputs": [],
   "source": [
    "#Print count of Only Even Numbers from a List\n",
    "li_o = [1,2,2,3]\n",
    "count = 0\n",
    "for i in li_o:\n",
    "    if i % 2 ==0 :\n",
    "        count = count+1\n",
    "print(count)        "
   ]
  },
  {
   "cell_type": "code",
   "execution_count": null,
   "id": "64ae2b8c-9433-4b04-9344-33b5e02ccd2f",
   "metadata": {},
   "outputs": [],
   "source": [
    "#Print Only Even Numbers from a List\n",
    "li_o = [1,2,2,3]\n",
    "for i in li_o:\n",
    "    if i % 2 ==0:\n",
    "        print(i)"
   ]
  },
  {
   "cell_type": "code",
   "execution_count": null,
   "id": "b136ca8d-c9e5-409c-a925-ea40e7ec5325",
   "metadata": {},
   "outputs": [],
   "source": [
    "#Filter Out Negative Numbers and print the same list with +ve values only \n",
    "n = [1,-1,2,-2,3,-3]\n",
    "for i in n:\n",
    "    if i < 0:\n",
    "        #del i \n",
    "        n.remove(i)\n",
    "print(n)"
   ]
  },
  {
   "cell_type": "code",
   "execution_count": null,
   "id": "344e3bdf-6516-4a2d-ac4b-7658c9d6c503",
   "metadata": {},
   "outputs": [],
   "source": [
    "#Using list comprehension - filter out negative values \n",
    "n_1 = [1,-1,2,-2,3,-3]\n",
    "n_1 = [i for i in n_1 if i>0]\n",
    "print (n_1)"
   ]
  },
  {
   "cell_type": "code",
   "execution_count": null,
   "id": "e9ab4bf4-bcf0-4a9c-b238-0eca43d6c140",
   "metadata": {},
   "outputs": [],
   "source": [
    "#Calculate the Average of List Elements\n",
    "av = [1,2,4,5]\n",
    "length = len(av)\n",
    "sum = 0\n",
    "\n",
    "#to find sum of all elemets\n",
    "for i in av:\n",
    "    sum = sum+i\n",
    "\n",
    "avg = sum/length\n",
    "print('The avg is',avg)"
   ]
  },
  {
   "cell_type": "raw",
   "id": "0054e5e9-87b1-4b19-9846-43093420e183",
   "metadata": {},
   "source": [
    "Identify dupliactes in a List"
   ]
  },
  {
   "cell_type": "code",
   "execution_count": null,
   "id": "e8b82ac7-dce6-4770-89f3-07f4c8c8f0b7",
   "metadata": {},
   "outputs": [],
   "source": [
    "#Identify and Remove Duplicates - method 1 \n",
    "d = [1,1,2,3,3,4,5,5,5]\n",
    "unique = []\n",
    "\n",
    "for i in d:\n",
    "    if i not in unique:\n",
    "        unique.append(i)\n",
    "print(d)\n",
    "print(unique)"
   ]
  },
  {
   "cell_type": "code",
   "execution_count": null,
   "id": "2219482b-1b3b-4294-98b8-abb74f2430f1",
   "metadata": {},
   "outputs": [],
   "source": [
    "#Identify and Remove Duplicates - method 2\n",
    "d_1 = set(d)\n",
    "print(d_1)"
   ]
  },
  {
   "cell_type": "code",
   "execution_count": null,
   "id": "570c3638-d45e-4ae8-826f-2136731efd91",
   "metadata": {},
   "outputs": [],
   "source": [
    "#method 3: using while loop and reversing \n",
    "df = [1,1,2,3,3,4,5,5,5]\n",
    "df.sort()\n",
    "print(df)\n",
    "i = len(df) -1 \n",
    "print(i)\n",
    "\n",
    "while i > 0:\n",
    "    if df[i] == df[i-1]: \n",
    "        del df[i] \n",
    "    i = i-1\n",
    "print(df)"
   ]
  },
  {
   "cell_type": "code",
   "execution_count": null,
   "id": "aa7a37cd-5ccc-4149-bd81-9470659f6bcc",
   "metadata": {},
   "outputs": [],
   "source": [
    "#Print Elements Greater Than a Given Number\n",
    "gn = [10,1,5,2,8,6,9] \n",
    "gn.sort()\n",
    "\n",
    "try: \n",
    "    compare = int(input(\"Enter a number\"))\n",
    "    found = False\n",
    "    for i in gn:\n",
    "        if i > compare: \n",
    "            print(i)\n",
    "    if not found: \n",
    "        print(\"No elemts are gerater\")\n",
    "except ValueError:\n",
    "    print(\"Please enter a valid integer.\")"
   ]
  },
  {
   "cell_type": "code",
   "execution_count": null,
   "id": "a4517021-7ad9-4157-9d43-29cbef61e741",
   "metadata": {},
   "outputs": [],
   "source": [
    "spendings = [1346.0, 987.50, 1734.40, 2567.0, 3271.45, 2500.0, 2130.0, 2510.30, 2987.34, 3120.50, 4069.78, 1000.0]\n",
    "\n",
    "count_low = 0 \n",
    "\n",
    "for i in spendings:\n",
    "    if i< 1000.0:\n",
    "        count_low = count_low+1 \n",
    "\n",
    "print(count_low)\n"
   ]
  },
  {
   "cell_type": "code",
   "execution_count": null,
   "id": "6c64e7f2-c2da-4a6d-ba95-1a84920459a6",
   "metadata": {},
   "outputs": [],
   "source": [
    "#Swap\n",
    "a = 10 \n",
    "b = 20 \n",
    "\n",
    "a,b = b,a #this can be use dto swap numbers \n",
    "print(a)\n",
    "print(b)"
   ]
  },
  {
   "cell_type": "code",
   "execution_count": null,
   "id": "c63770d0-7b69-4570-85b8-89dda5e4307b",
   "metadata": {},
   "outputs": [],
   "source": [
    "# Define two numbers\n",
    "a = 10\n",
    "b = 20\n",
    "\n",
    "# Swap the numbers using a temporary variable\n",
    "temp = a\n",
    "a = b\n",
    "b = temp\n",
    "print(a) \n",
    "print(b)\n"
   ]
  },
  {
   "cell_type": "code",
   "execution_count": null,
   "id": "d377031c-df9b-4d99-ac99-f9ca132a516a",
   "metadata": {},
   "outputs": [],
   "source": [
    "#sorting sorted by asc \n",
    "random = [-1, 44, 2, 5] \n",
    "random.sort()\n",
    "print(random)\n",
    "\n",
    "#sorting sorted by desc\n",
    "random1 = [-1, 44, 2, 5, 0] \n",
    "random1.sort(reverse = True)\n",
    "print(random1)\n",
    "\n",
    "#SORT - will sort the original list \n",
    "#SORTED - will create a new list that is sorted and maintain the original list "
   ]
  },
  {
   "cell_type": "code",
   "execution_count": null,
   "id": "0a5e9628-27e2-4f93-93f6-96a862c7a9b6",
   "metadata": {},
   "outputs": [],
   "source": [
    "#IN operator will check for every element in teh string \n",
    "for i in 'Prachi':\n",
    "    print(i)"
   ]
  },
  {
   "cell_type": "code",
   "execution_count": null,
   "id": "c92f59f6-2f51-4b78-967b-1f494399cbd7",
   "metadata": {},
   "outputs": [],
   "source": [
    "invited_list = ['Prachi', 'Soro', 'Sona'] \n",
    "name = input('What is your name?')\n",
    "if name in invited_list:\n",
    "    print('Your are invited', name) \n",
    "else:\n",
    "    print('You are not invited',name)"
   ]
  },
  {
   "cell_type": "code",
   "execution_count": null,
   "id": "3c3766ab-d2db-42ac-8a66-d812c43f1b3d",
   "metadata": {},
   "outputs": [],
   "source": [
    "#copy list \n",
    "list_og = [1,2,3]\n",
    "list_new = list_og \n",
    "list_og[0] = 0 \n",
    "print(list_og)\n",
    "print(list_new)\n",
    "\n",
    "#if you chnage original list any list copied from that list will change too\n",
    "#this happens because name of oglist points to the memory location (they are called refrences) \n",
    "\n",
    "#if you wnat to miantain an orginal list and not let any changes in og list hamper teh copied list - use slicing \n",
    "og = [1,2,3,4]\n",
    "new = og [:]\n",
    "og [0] = 5 \n",
    "print(og)\n",
    "print(new)"
   ]
  },
  {
   "cell_type": "markdown",
   "id": "d54f380b-1a0e-446f-801b-07f866c3668d",
   "metadata": {},
   "source": [
    "#LIST COMPREHENSIONS"
   ]
  },
  {
   "cell_type": "code",
   "execution_count": null,
   "id": "275ee85c-c5ef-4df5-b8da-3beb2f599530",
   "metadata": {},
   "outputs": [],
   "source": [
    "#numbers = [1,2,3,4,5,6] \n",
    "numbers = []\n",
    "for i in range (1,100):\n",
    "    numbers.append(i)\n",
    "print(numbers)"
   ]
  },
  {
   "cell_type": "code",
   "execution_count": null,
   "id": "fcff426f-584c-4b94-883e-c217dcc7e289",
   "metadata": {
    "scrolled": true
   },
   "outputs": [],
   "source": [
    "#this is list comprehension \n",
    "numbers = [i for i in range(1,101)]\n",
    "print(numbers)"
   ]
  },
  {
   "cell_type": "code",
   "execution_count": null,
   "id": "2b156520-c055-4be6-a4fe-95efdcc5a55f",
   "metadata": {},
   "outputs": [],
   "source": [
    "numbers1 = [i for i in range(1,101) if i%3 ==0]\n",
    "print(numbers1)"
   ]
  },
  {
   "cell_type": "markdown",
   "id": "7fe83956-87df-4050-9018-89cd1ff00d3c",
   "metadata": {},
   "source": [
    "#NESTED LISTS "
   ]
  },
  {
   "cell_type": "code",
   "execution_count": null,
   "id": "ae8e2d59-5c4c-4533-a7b9-61298de850c2",
   "metadata": {},
   "outputs": [],
   "source": [
    "NO = [1,2,'UK']\n",
    "NO = [1,2]\n",
    "NO = ['USA','UK']\n",
    "multiple = [[1,2],[3,4]] #this list has 2 elements which are 2 lists\n",
    "\n",
    "# this will return a sub list\n",
    "multiple[0] \n",
    "\n",
    "#to access the first elemnt of a list->sub_list\n",
    "print(multiple [0][0]) \n",
    "print(multiple [0][1])"
   ]
  },
  {
   "cell_type": "code",
   "execution_count": null,
   "id": "529d8886-2297-4571-a775-dd75400ef8e5",
   "metadata": {},
   "outputs": [],
   "source": [
    "for i in multiple:\n",
    "    print(i)"
   ]
  },
  {
   "cell_type": "code",
   "execution_count": null,
   "id": "937fb5ab-4be9-48bd-8fde-1f436b04680d",
   "metadata": {},
   "outputs": [],
   "source": [
    "#to acesss nested lists \n",
    "for i in multiple:\n",
    "    for y in i: \n",
    "        print(y)"
   ]
  },
  {
   "cell_type": "code",
   "execution_count": null,
   "id": "3ad8dedd-f33b-4fca-9c6c-61f9b1049a53",
   "metadata": {},
   "outputs": [],
   "source": [
    "#to astore ecah element of sublist in a new list \n",
    "multiple_new = []\n",
    "for i in multiple:\n",
    "    for y in i: \n",
    "        multiple_new.append(y)\n",
    "print(multiple_new)"
   ]
  },
  {
   "cell_type": "code",
   "execution_count": null,
   "id": "8ae25d7a-1de2-4886-b652-01d1e0774433",
   "metadata": {},
   "outputs": [],
   "source": [
    "\n",
    "new_a = [[i for i in range(1,6)] for j in range(4)]\n",
    "print(new_a)"
   ]
  },
  {
   "cell_type": "code",
   "execution_count": null,
   "id": "ec10e57d-2b21-41eb-9aa3-630a56c3ef78",
   "metadata": {},
   "outputs": [],
   "source": [
    "new = []\n",
    "innerlist =[]\n",
    "for j in range(4):\n",
    "    innerlist =[]\n",
    "    for i in range(1,6):\n",
    "        innerlist.append(i)\n",
    "    new.append(innerlist)\n",
    "print(new)"
   ]
  },
  {
   "cell_type": "code",
   "execution_count": null,
   "id": "e4fdf42e-a9b5-4da8-86aa-4748ca5bbde9",
   "metadata": {},
   "outputs": [],
   "source": [
    "#you can add & multiply the list\n",
    "sum = [1,2]\n",
    "sum = sum*2 \n",
    "print(sum)\n",
    "\n",
    "us =['ny','atl']\n",
    "uk =['lol','scott']\n",
    "usuk = us+uk\n",
    "print(usuk)"
   ]
  },
  {
   "cell_type": "code",
   "execution_count": null,
   "id": "71a2ab3a-a3f3-4944-adfa-bf96136faa9e",
   "metadata": {},
   "outputs": [],
   "source": [
    "#String \n",
    "band = 'Cold Play'\n",
    "print(band[8])\n",
    "\n",
    "#we cannot use slicing to change specific cahrcters but only to extrcat \n",
    "print(band[:6])\n",
    "\n"
   ]
  },
  {
   "cell_type": "code",
   "execution_count": null,
   "id": "f12c8154-e3e0-430e-b268-7a81116addf9",
   "metadata": {},
   "outputs": [],
   "source": [
    "name = 'Prachi'\n",
    "c = name.capitalize() #make steh first letter uppercase \n",
    "print(c)\n",
    "\n",
    "v = name.casefold() #all smallcase \n",
    "print(v)\n",
    "\n",
    "b = name.count('Prachi') #counts teh occurences of a string \n",
    "print(b)\n",
    "\n",
    "n = name.endswith('i') #checks if the string ends with a certain character \n",
    "print(n)\n",
    "\n",
    "m = name.upper() #makes capslock \n",
    "print(m)\n",
    "\n",
    "l = name.isnumeric() \n",
    "print(l)"
   ]
  },
  {
   "cell_type": "code",
   "execution_count": null,
   "id": "4d4a238f-abdc-41dd-b494-2a11ea8bb5cf",
   "metadata": {},
   "outputs": [],
   "source": [
    "#Check if inpyt is a number "
   ]
  },
  {
   "cell_type": "code",
   "execution_count": null,
   "id": "323a9490-3fb1-4f58-978d-4e6a70dd92fd",
   "metadata": {},
   "outputs": [],
   "source": [
    "#using function\n",
    "num = input('Enter a number')\n",
    "if num.isnumeric():\n",
    "    print('It is a number')\n",
    "else:\n",
    "    print('Not a number')\n"
   ]
  },
  {
   "cell_type": "code",
   "execution_count": null,
   "id": "fba48940-4d2b-4698-9e5f-f8b4a43b6c8d",
   "metadata": {},
   "outputs": [],
   "source": [
    "#using try except block \n",
    "def num(input_num):\n",
    "    try:\n",
    "        float(input_num) \n",
    "        print('It is a number')\n",
    "    except ValueError: \n",
    "        print('Not a number')\n",
    "        \n",
    "input_num = input('Enter a number')\n",
    "num(input_num)\n",
    "\n"
   ]
  },
  {
   "cell_type": "code",
   "execution_count": null,
   "id": "de837295-c6e1-4844-8de2-abf68765a26f",
   "metadata": {},
   "outputs": [],
   "source": [
    "#reverse a list - method 1 \n",
    "kl = [1,2,3,4,5]\n",
    "new_kl = kl[::-1]\n",
    "print(new_kl)"
   ]
  },
  {
   "cell_type": "code",
   "execution_count": null,
   "id": "85fc8cc6-339b-4d5e-b7db-45c5a10d3e1a",
   "metadata": {},
   "outputs": [],
   "source": [
    "def list_rev(arr,size): #method 2\n",
    "    i = 0 \n",
    "    while i < (size//2):\n",
    "        arr[i],arr[size -i - 1] = arr[size - i-1],arr[i]\n",
    "        i= i+1\n",
    "        return arr \n",
    "        \n",
    "arr = [1, 2, 3, 4, 5]\n",
    "size = 5\n",
    "print('Original list: ', arr)\n",
    "print(\"Reversed list: \", list_rev(arr, size))\n",
    "\n",
    "#Explanation \n",
    "#first we need an array & its size \n",
    "#Next, we need to stop running the loop once we have rechaed teh midpoint of the list \n",
    "#Next, add logic for swapping -> arr[i],arr[size -i - 1] = arr[size - i-1],arr[i]\n",
    "#Next, increment i \n"
   ]
  },
  {
   "cell_type": "markdown",
   "id": "d1f49861-f592-4ff8-97c9-1cdb8513af77",
   "metadata": {},
   "source": [
    "#Bubble sort "
   ]
  },
  {
   "cell_type": "code",
   "execution_count": null,
   "id": "69cf0ecc-fc44-43f9-b472-8e9de073c70b",
   "metadata": {},
   "outputs": [],
   "source": [
    "#BUBBLE SORT\n",
    "def bubble(list):\n",
    "    length_list = len(list) -1 #the reaosn we do -1 is beacus eteh last element wont ahve anything to comare to \n",
    "    sorted = False \n",
    "    \n",
    "    while not sorted: \n",
    "        sorted = True \n",
    "        for i in range(0,length_list):\n",
    "            if list[i] > list [i+1]: \n",
    "                sorted = False \n",
    "                list[i], list[i+1] = list[i+1], list[i]\n",
    "            \n",
    "    return list           \n",
    "\n",
    "\n",
    "list = [30,22,25,2,1,90]\n",
    "bubble(list)"
   ]
  },
  {
   "cell_type": "code",
   "execution_count": null,
   "id": "3d55fa95-0fb7-47bd-b863-b03523d4da19",
   "metadata": {},
   "outputs": [],
   "source": [
    "#SELECTION SORT \n",
    "def selection(list1):\n",
    "    min = list[0] \n",
    "    length_list1 = len(list1)\n",
    "    list2 = []\n",
    "    \n",
    "    for i in range(0, length_list1):\n",
    "        if list1[i]<min:\n",
    "            list2.append(i) \n",
    "        else\n",
    "        \n",
    "\n",
    "\n",
    "\n",
    "\n",
    "list1 = [4,8,2,1,30]\n",
    "selection(list1)"
   ]
  },
  {
   "cell_type": "code",
   "execution_count": null,
   "id": "26258cc3-5121-45bf-bac1-9e3883e4e4e9",
   "metadata": {},
   "outputs": [],
   "source": [
    "#tuples - they are immuatble and (), ordered elements, can store diff types of elements \n",
    "y = (1,1,2,3)\n",
    "y1 = ('Hello', 2, 3)\n",
    "print(y)\n",
    "print(y1)\n",
    "\n",
    "x = (1) #this treats it as a value \n",
    "x1 = (1,) #this will treat it as a tuple, thus adding a comma is must \n",
    "print(x)\n",
    "print(x1)"
   ]
  },
  {
   "cell_type": "code",
   "execution_count": null,
   "id": "97f100b7-6f79-45ba-83e3-76f031030ff8",
   "metadata": {},
   "outputs": [],
   "source": [
    "w = (1,2,3,5,6)\n",
    "print(w[0])\n",
    "#w[0] = 100 we cannot change "
   ]
  },
  {
   "cell_type": "code",
   "execution_count": null,
   "id": "e38cc914-684e-43f3-897b-d2e493267b0a",
   "metadata": {},
   "outputs": [],
   "source": [
    "t1 = (1, 2, 3)\n",
    "t2 = (4, 5, 6)\n",
    "t3 = t1 + t2\n",
    "print(t3)"
   ]
  },
  {
   "cell_type": "code",
   "execution_count": null,
   "id": "379c7cc5-63ef-4362-a7fd-a7d954297ffb",
   "metadata": {},
   "outputs": [],
   "source": [
    "t1 = (1, 2, 3)\n",
    "print(t1 * 2)"
   ]
  },
  {
   "cell_type": "code",
   "execution_count": null,
   "id": "d6d029d7-9611-4ce6-bccb-d2518792b6e8",
   "metadata": {},
   "outputs": [],
   "source": [
    "t = (1, 2, 3)\n",
    "a, b, c = t\n",
    "print(a, b, c) "
   ]
  },
  {
   "cell_type": "code",
   "execution_count": null,
   "id": "2b37d436-f70f-46d8-97db-5e061eb9a7da",
   "metadata": {},
   "outputs": [],
   "source": [
    "ty = (1,2,3,3)\n",
    "print(2 in ty)\n",
    "\n",
    "print(ty.count(3))"
   ]
  },
  {
   "cell_type": "code",
   "execution_count": null,
   "id": "0bd5bd2a-fa13-4082-9e28-a3337a0fb5ee",
   "metadata": {},
   "outputs": [],
   "source": [
    "tu = ('Prachi', 'soro', 'megha')\n",
    "if 'Prachi' in tu:\n",
    "    print('Hi Prachi')\n",
    "    "
   ]
  },
  {
   "cell_type": "code",
   "execution_count": null,
   "id": "2b0fb008-5528-47d6-af19-826a719e0492",
   "metadata": {},
   "outputs": [],
   "source": [
    "tu = ('Prachi', 'soro', 'megha')\n",
    "for i in tu:\n",
    "    print(i)"
   ]
  },
  {
   "cell_type": "code",
   "execution_count": null,
   "id": "87f6e1cf-0aa2-40d4-9401-ae182c7921e1",
   "metadata": {},
   "outputs": [],
   "source": [
    "connections = [\n",
    "    ('Amsterdam', 'Dublin', 100),\n",
    "    ('Amsterdam', 'Rome', 140),\n",
    "    ('Rome', 'Warsaw', 130),\n",
    "    ('Minsk', 'Prague', 95),\n",
    "    ('Stockholm', 'Rome', 190),\n",
    "    ('Copenhagen', 'Paris', 120),\n",
    "    ('Madrid', 'Rome', 135),\n",
    "    ('Lisbon', 'Rome', 170),\n",
    "    ('Dublin', 'Rome', 170),\n",
    "    ]\n",
    "sum = 0 \n",
    "for x in connections: \n",
    "    for y in x:\n",
    "        if y =='Rome':\n",
    "            sum = sum + 1\n",
    "print(sum)"
   ]
  },
  {
   "cell_type": "code",
   "execution_count": null,
   "id": "a980ba78-b158-4ec0-8e8a-2485dbb5b566",
   "metadata": {},
   "outputs": [],
   "source": [
    "count = 0\n",
    "for x in connections:\n",
    "    if x[1] =='Rome':\n",
    "        count = count + 1\n",
    "        sumx = x[2] + sumx\n",
    "print('Filghts to rome:', count)\n",
    "print('Avg flight time to rome:',count/sumx)"
   ]
  },
  {
   "cell_type": "code",
   "execution_count": null,
   "id": "b8b43c0c-45d8-4a8c-b6b1-2c01b80d9803",
   "metadata": {},
   "outputs": [],
   "source": [
    "#min & max \n",
    "def min(list):\n",
    "    min = lo[0]\n",
    "    \n",
    "    for i in list:\n",
    "        if i < min:\n",
    "            min = i\n",
    "    return min         \n",
    "\n",
    "list = [5,1,2,3,4]\n",
    "min(list)"
   ]
  },
  {
   "cell_type": "code",
   "execution_count": null,
   "id": "e92cddd2-00d7-45f9-b127-935275c926b4",
   "metadata": {},
   "outputs": [],
   "source": [
    "def findmax(list2):\n",
    "    max = list2[0]\n",
    "    for i in list2:\n",
    "        if i >max:\n",
    "            max = i \n",
    "    return max\n",
    "    \n",
    "list2 = [100,400,20,600]\n",
    "findmax(list2)"
   ]
  },
  {
   "cell_type": "code",
   "execution_count": null,
   "id": "87224e3c-58a0-4520-80e7-fa2f9c6d5ea2",
   "metadata": {},
   "outputs": [],
   "source": [
    "#minmax in same function, return more than 1 variable using comma\n",
    "def maxmin(lk):\n",
    "    lk.sort()\n",
    "    min  = lk[0] \n",
    "    max = lk[-1] \n",
    "    return min, max \n",
    "\n",
    "lk = [23,43,11,80]\n",
    "min, max = maxmin(lk)\n",
    "print(f\"Minimum: {min}, Maximum: {max}\")"
   ]
  },
  {
   "cell_type": "code",
   "execution_count": null,
   "id": "bfa2ba50-745a-4bca-a226-f8f3817234eb",
   "metadata": {},
   "outputs": [],
   "source": [
    "#Duplicate\n",
    "lkp = [23,43,11,80,80]\n",
    "lkp_k = []\n",
    "lkp_repeat = []\n",
    "for i in lkp:\n",
    "    if i not in lkp_k:\n",
    "        lkp_k.append(i)\n",
    "    else:\n",
    "        lkp_repeat.append(i)\n",
    "\n",
    "print(lkp_k)\n",
    "print(lkp_repeat)"
   ]
  },
  {
   "cell_type": "code",
   "execution_count": null,
   "id": "68e91e88-c91f-4dde-b3ee-e150ebda7222",
   "metadata": {},
   "outputs": [],
   "source": [
    "#flaten nested list \n"
   ]
  },
  {
   "cell_type": "code",
   "execution_count": null,
   "id": "235d134c-1aad-4383-8d6a-f43cac81fc16",
   "metadata": {},
   "outputs": [],
   "source": [
    "#Dict are mutable\n",
    "#List can't become a key in a Dictionary : because List is immutable\n",
    "#List can be  value in a Dict \n",
    "#ordered collections \n",
    "\n",
    "grades = {'John': 'A', 'Prachi': 'B'}\n",
    "grades ['Megha'] = 'C'\n",
    "print(grades)\n",
    "grades ['Megha'] = 'A+'\n",
    "print(grades)\n",
    "\n",
    "#using Update \n",
    "grades.update({'John': 'A+'})\n",
    "print(grades)\n",
    "\n",
    "#length of dict \n",
    "len(grades) \n",
    "\n",
    "#to check if a key exists\n",
    "if 'John' in grades:\n",
    "    print(\"John is present\")\n",
    "\n",
    "else :\n",
    "    print(\"Not present\")\n",
    "\n",
    "#to delete \n",
    "del grades ['John']\n",
    "print(grades)"
   ]
  },
  {
   "cell_type": "code",
   "execution_count": null,
   "id": "a8b0586d-413f-4c01-a701-51ef50c603e9",
   "metadata": {},
   "outputs": [],
   "source": [
    "grades"
   ]
  },
  {
   "cell_type": "code",
   "execution_count": null,
   "id": "bc3636ad-d397-4e04-89ae-c997d9cb55e9",
   "metadata": {},
   "outputs": [],
   "source": [
    "#if we iterate using for loop we will get KEY \n",
    "for i in grades: \n",
    "    print (i)"
   ]
  },
  {
   "cell_type": "code",
   "execution_count": null,
   "id": "918f2f0f-6cbd-45ca-81d8-664b8eb3475e",
   "metadata": {},
   "outputs": [],
   "source": [
    "# we can use .keys() method\n",
    "for i in grades.keys():\n",
    "    print(i)"
   ]
  },
  {
   "cell_type": "code",
   "execution_count": null,
   "id": "95157068-cef2-4b29-b8b7-e50744e94b49",
   "metadata": {},
   "outputs": [],
   "source": [
    "# we can use .values() method\n",
    "for i in grades.values():\n",
    "    print (i)"
   ]
  },
  {
   "cell_type": "code",
   "execution_count": null,
   "id": "b6a4eb3d-49d9-4d58-aa9d-af854c9cb9d3",
   "metadata": {},
   "outputs": [],
   "source": [
    "for i, j in grades.items():\n",
    "    print(i,j)"
   ]
  },
  {
   "cell_type": "code",
   "execution_count": null,
   "id": "0c042ce5-f518-4f98-ad12-367d58384f4d",
   "metadata": {},
   "outputs": [],
   "source": [
    "sample_dict = {\n",
    "    \"mouth\": \"Mund\",\n",
    "    \"finger\": \"Finger\",\n",
    "    \"leg\": \"Bein\",\n",
    "    \"hand\": \"Hand\",\n",
    "    \"face\": \"Gesicht\",\n",
    "    \"nose\": \"Nase\"\n",
    "}\n",
    "sample = input('Enter a word in English or EXIT')\n",
    "\n",
    "if sample in sample_dict:\n",
    "    print(sample_dict[sample])"
   ]
  },
  {
   "cell_type": "code",
   "execution_count": null,
   "id": "87efd325-2a91-473c-a3d9-c3a6a8193414",
   "metadata": {},
   "outputs": [],
   "source": [
    "list_a = [1, 2, 3]\n",
    "list_b = list_a[-2:-1]\n",
    "list_c = list_a[-1:-2]\n",
    "\n",
    "print(list_b)\n",
    "print(list_c)"
   ]
  },
  {
   "cell_type": "code",
   "execution_count": null,
   "id": "ae916207-8fb2-457f-a73e-c7f5aa73c555",
   "metadata": {},
   "outputs": [],
   "source": [
    "temp_list = [1, 2, 3]\n",
    "for i in range(len(temp_list)):\n",
    "    temp_list.insert(i, 0)\n",
    "print(temp_list)\n",
    "\n"
   ]
  },
  {
   "cell_type": "code",
   "execution_count": null,
   "id": "1040ca64-dfbc-4e46-8223-16190ca53c96",
   "metadata": {},
   "outputs": [],
   "source": [
    "my_numbers = [[i for i in range(3)] for j in range(4)]\n",
    "print(my_numbers)\n"
   ]
  },
  {
   "cell_type": "code",
   "execution_count": null,
   "id": "5c0c348a-26a3-4d3b-bb4d-767f315ec4b7",
   "metadata": {},
   "outputs": [],
   "source": [
    "values = [[3 - x for x in range(2)] for y in range(5)]\n",
    " \n",
    "sum = 0.0\n",
    "for row in values:\n",
    "  for cell in row:\n",
    "    sum += cell\n",
    " \n",
    "print(sum)\n",
    "\n"
   ]
  },
  {
   "cell_type": "code",
   "execution_count": null,
   "id": "bae06da0-7412-4205-a172-9f898e2c6a40",
   "metadata": {},
   "outputs": [],
   "source": [
    "values = [[3 - x for x in range(2)] for y in range(5)]\n",
    "print(values)"
   ]
  },
  {
   "cell_type": "code",
   "execution_count": null,
   "id": "6b1644d0-3ab1-4c3e-93ef-f9b60d4f5185",
   "metadata": {},
   "outputs": [],
   "source": [
    "integers = [1, 4, -2]\n",
    "print(integers[integers[-1]])"
   ]
  },
  {
   "cell_type": "code",
   "execution_count": null,
   "id": "03569c87-03fc-4289-980c-9ac40593a5c0",
   "metadata": {},
   "outputs": [],
   "source": [
    "my_vals = [1, 2, 3, 4, 5]\n",
    "my_vals[1], my_vals[2] = my_vals[2], my_vals[1]\n",
    "my_vals"
   ]
  },
  {
   "cell_type": "code",
   "execution_count": null,
   "id": "7b185c3a-fb1f-4b7a-9f3b-27a110bc1a19",
   "metadata": {},
   "outputs": [],
   "source": [
    "list_a = [0, 1, 2, 3]\n",
    "list_b = [3, 4, 5, 6]\n",
    "for el in list_a:\n",
    "  if el in list_b:\n",
    "    print('*')\n",
    "\n",
    "      "
   ]
  },
  {
   "cell_type": "code",
   "execution_count": null,
   "id": "618a01e2-5df3-4f35-a7a1-c0cb98221780",
   "metadata": {},
   "outputs": [],
   "source": [
    "my_list = [0, 1, 2] * 3 \n",
    "my_list\n",
    "my_list = my_list + [0]\n",
    "my_list"
   ]
  },
  {
   "cell_type": "code",
   "execution_count": null,
   "id": "ddae3724-2717-4a39-9fe7-e6485e45d4d0",
   "metadata": {},
   "outputs": [],
   "source": [
    "fav_band = 'Green Day'\n",
    "fav_band[6] = 'M'\n",
    "#coz strings are immuatble "
   ]
  },
  {
   "cell_type": "code",
   "execution_count": null,
   "id": "2f1b2629-a77e-495b-8618-daa789c45a63",
   "metadata": {},
   "outputs": [],
   "source": [
    "no = 1,2,3\n",
    "print(type(no))"
   ]
  },
  {
   "cell_type": "code",
   "execution_count": null,
   "id": "0cd42cb7-a4b6-40b8-8a78-5e8553a499d3",
   "metadata": {},
   "outputs": [],
   "source": [
    "#User defined functions \n",
    "def greet():\n",
    "    print('Hi there!')\n",
    "greet()"
   ]
  },
  {
   "cell_type": "code",
   "execution_count": null,
   "id": "291eb6e1-0139-4e37-9412-92f166e166b7",
   "metadata": {},
   "outputs": [],
   "source": [
    "#functions with parameters \n",
    "def count(str,letter):\n",
    "    count = 0 \n",
    "    for i in str:\n",
    "        if i == letter:\n",
    "            count = count+1\n",
    "    return count\n",
    "\n",
    "count('prachiiii','i')"
   ]
  },
  {
   "cell_type": "code",
   "execution_count": null,
   "id": "3ecc7333-d982-4d3e-9732-ee39e2fb0d01",
   "metadata": {},
   "outputs": [],
   "source": [
    "#Default parameter values \n",
    "#sep: default value is space char \n",
    "#end: default value is new line\n",
    "#in the function call specify the lettter that wil be the default \n",
    "\n",
    "def count(str,letter = 'a'):\n",
    "    count = 0 \n",
    "    for i in str:\n",
    "        if i == letter:\n",
    "            count = count+1\n",
    "    return count\n",
    "\n",
    "count('prachiiii')"
   ]
  },
  {
   "cell_type": "code",
   "execution_count": null,
   "id": "94af60c8-613d-4c34-a7bd-8b733d0f1059",
   "metadata": {},
   "outputs": [],
   "source": [
    "def count(str = 'search',letter = 'a'):\n",
    "    count = 0 \n",
    "    for i in str:\n",
    "        if i == letter:\n",
    "            count = count+1\n",
    "    return count\n",
    "\n",
    "count()\n",
    "#positional arguments must appear first and then teh named arguments (in the function definition and the function call both)\n",
    "#count(letter = 'a', 'Prachiiii') #this will throw error"
   ]
  },
  {
   "cell_type": "code",
   "execution_count": null,
   "id": "7229f7f7-fb9a-4a19-8770-34127d32c68b",
   "metadata": {},
   "outputs": [],
   "source": [
    "#Name scope \n",
    "\n",
    "#this is called Shadowing - the global variable & local variable \n",
    "# local variable shodows the global variable \n",
    "# they are basiclaly 2 variables \n",
    "def show():\n",
    "    a = 15\n",
    "    print(a)\n",
    "a= 10\n",
    "print(a)\n",
    "show()\n",
    "print(a)\n",
    "\n",
    "#if we wnat to explicilty not use SHADOWING - we will mention global keyword before var_name \n",
    "#so in this case it will be global a \n",
    "def show():\n",
    "    global a\n",
    "    print(a)\n"
   ]
  },
  {
   "cell_type": "code",
   "execution_count": null,
   "id": "d4e3f8ed-ceb2-4029-ac66-3d20c9625ac2",
   "metadata": {},
   "outputs": [],
   "source": [
    "#SHADOWING IN CASE OF LISTS & dict (not applicable to tuples - sinc ethey are immuatble)\n",
    "def show1():\n",
    "    a1.append('Element2') \n",
    "    #here we are not using equals(=) operator, which menas we did not create a local verison of teh operator\n",
    "    #in the case-> will refer to Global variable & will modify the global list \n",
    "    print(a1)\n",
    "\n",
    "\n",
    "a1 = ['Element1']\n",
    "print(a1)\n",
    "show1()\n",
    "print(a1)\n"
   ]
  },
  {
   "cell_type": "markdown",
   "id": "eb06b191-922a-4b0a-a0e7-f1cae0b3108f",
   "metadata": {},
   "source": [
    "NONE"
   ]
  },
  {
   "cell_type": "code",
   "execution_count": null,
   "id": "a8985365-cc32-4e3f-adbb-d62d5b94ec1d",
   "metadata": {},
   "outputs": [],
   "source": [
    "#NONE\n",
    "#functions can 1. Cause some effect & 2. Return some value \n",
    "print() #-> causes some effect\n",
    "len() #returns a value \n",
    "input() #does both "
   ]
  },
  {
   "cell_type": "code",
   "execution_count": null,
   "id": "753f50dc-56d2-44c1-aef3-95f2c4b93728",
   "metadata": {},
   "outputs": [],
   "source": [
    "print_return = print('Hello!')\n",
    "print(print_return)\n",
    "#None = null value/no value/ is not a empty string"
   ]
  },
  {
   "cell_type": "code",
   "execution_count": null,
   "id": "d492acea-b00c-4d66-9bf6-c3831f492486",
   "metadata": {},
   "outputs": [],
   "source": [
    "x = None \n",
    "if x is None:\n",
    "    print('yes')\n",
    "if x == None: \n",
    "    print('yes this works too')"
   ]
  },
  {
   "cell_type": "code",
   "execution_count": null,
   "id": "8f3030c1-75d5-4c41-9ae1-5a5f8c4053fa",
   "metadata": {},
   "outputs": [],
   "source": [
    "def g():\n",
    "    print('Hmm')\n",
    "\n",
    "x = greet()\n",
    "#if we try printing out the variable that stores the return value of a function ->it will return a NONE value \n",
    "print(x)"
   ]
  },
  {
   "cell_type": "code",
   "execution_count": null,
   "id": "c67db08b-6d53-4395-9fe6-6043748478e5",
   "metadata": {},
   "outputs": [],
   "source": [
    "#REMOVE DUPLICATE ELEMENTS \n",
    "def dup(list1):\n",
    "    unique = []\n",
    "    for i in list1:\n",
    "        if i not in unique:\n",
    "            unique.append(i)\n",
    "    print (unique)\n",
    "        \n",
    "list1 = [1,2,2,3]\n",
    "dup([1,2,2,3])"
   ]
  },
  {
   "cell_type": "code",
   "execution_count": null,
   "id": "c4cb05ec-c602-4d4c-a189-3e3e797f7a75",
   "metadata": {},
   "outputs": [],
   "source": [
    "#Recursionn - a fuction taht calls itself "
   ]
  },
  {
   "cell_type": "code",
   "execution_count": null,
   "id": "27479e52-b520-4c8c-a771-469685f53111",
   "metadata": {},
   "outputs": [],
   "source": [
    "#factorial \n",
    "n =3\n",
    "result = 1\n",
    "for i in range(1,n+1):\n",
    "    result = result * i \n",
    "print(result)"
   ]
  },
  {
   "cell_type": "code",
   "execution_count": null,
   "id": "dba8da89-f73a-4529-a224-c9e37786e9e5",
   "metadata": {},
   "outputs": [],
   "source": [
    "def rec(a):\n",
    "    if a <=1:\n",
    "        return 1\n",
    "    return a *rec(a-1)\n",
    "\n",
    "rec(3)"
   ]
  },
  {
   "cell_type": "code",
   "execution_count": null,
   "id": "391b19b0-e288-4740-9deb-bebfcf1c2075",
   "metadata": {},
   "outputs": [],
   "source": [
    "#generators - when we want to return a lot of values 1 by 1 \n",
    "# it will remember teh last value returned and then provide us with netx value whenever called \n",
    "def no():\n",
    "    for i in range(1,4):\n",
    "        yield i\n",
    "        \n",
    "ans = no()\n",
    "print(ans)\n",
    "print(next(ans))\n",
    "print(next(ans))\n",
    "print(next(ans))\n"
   ]
  },
  {
   "cell_type": "code",
   "execution_count": null,
   "id": "5038f74f-d49e-4996-bf66-0dfd9fe4a884",
   "metadata": {},
   "outputs": [],
   "source": [
    "#print values of generator using loop\n",
    "for x in no():\n",
    "    print(x)"
   ]
  },
  {
   "cell_type": "code",
   "execution_count": 79,
   "id": "f0cc9aa4-8fd7-4025-a39f-8c113734383d",
   "metadata": {},
   "outputs": [
    {
     "name": "stdout",
     "output_type": "stream",
     "text": [
      "[1, 2, 3]\n"
     ]
    }
   ],
   "source": [
    "#convert the output to a list \n",
    "def no():\n",
    "    for i in range(1,4):\n",
    "        yield i\n",
    "        \n",
    "abc = list(no())\n",
    "print(abc)"
   ]
  },
  {
   "cell_type": "code",
   "execution_count": 91,
   "id": "4f8fd255-d032-45d9-89d4-8d4ca4f0a4ab",
   "metadata": {},
   "outputs": [
    {
     "name": "stdout",
     "output_type": "stream",
     "text": [
      "True\n"
     ]
    }
   ],
   "source": [
    "l = [1,2,3]\n",
    "ans = 0 not in l\n",
    "print(ans)"
   ]
  },
  {
   "cell_type": "code",
   "execution_count": 93,
   "id": "350b1cf8-c598-4064-8527-97f8ac2e18ee",
   "metadata": {},
   "outputs": [
    {
     "name": "stdout",
     "output_type": "stream",
     "text": [
      "[0, 3]\n"
     ]
    }
   ],
   "source": [
    "#This wiull overwrite\n",
    "l1 = [2,3]\n",
    "l1[0] = 0\n",
    "print(l1)"
   ]
  },
  {
   "cell_type": "code",
   "execution_count": 99,
   "id": "95d412c8-f558-44af-8b30-f27f2fba03ee",
   "metadata": {},
   "outputs": [
    {
     "name": "stdout",
     "output_type": "stream",
     "text": [
      "21"
     ]
    }
   ],
   "source": [
    "dct = {}\n",
    "dct['1'] = (1,2)\n",
    "dct['2'] = (2,1)\n",
    "for i in dct.keys():\n",
    "    print(dct[i][1], end = '')"
   ]
  },
  {
   "cell_type": "code",
   "execution_count": 101,
   "id": "960562e6-d2cc-4582-85e1-9e71cfbc1c69",
   "metadata": {},
   "outputs": [
    {
     "name": "stdout",
     "output_type": "stream",
     "text": [
      "['h', 'e', 'l', 'l', 'o']\n"
     ]
    }
   ],
   "source": [
    "print(list('hello'))"
   ]
  },
  {
   "cell_type": "code",
   "execution_count": 109,
   "id": "10d16b3b-0514-48fb-8fe1-1384ae4ae425",
   "metadata": {},
   "outputs": [
    {
     "name": "stdout",
     "output_type": "stream",
     "text": [
      "{1: 1}\n",
      "{1: 1, '1': 2}\n",
      "{1: 2, '1': 2}\n",
      "4\n"
     ]
    }
   ],
   "source": [
    "d = {}\n",
    "d[1] = 1\n",
    "print(d)\n",
    "\n",
    "d ['1'] = 2\n",
    "print(d)\n",
    "\n",
    "d[1] = d[1] + 1\n",
    "print(d)\n",
    "\n",
    "sum = 0 \n",
    "for k in d:\n",
    "    sum = sum +d[k]\n",
    "print(sum)"
   ]
  },
  {
   "cell_type": "code",
   "execution_count": 113,
   "id": "4524c0fe-af7a-44ff-a9a5-ba5103aef339",
   "metadata": {},
   "outputs": [
    {
     "name": "stdout",
     "output_type": "stream",
     "text": [
      "two\n",
      "two\n"
     ]
    }
   ],
   "source": [
    "dc = {'one':'two', 'three':'one', 'two':'three'} \n",
    "v = dc['one'] #this will print the value \n",
    "print(v)\n",
    "\n",
    "for k in range(len(dc)):\n",
    "    v = dc [v]\n",
    "print(v)"
   ]
  },
  {
   "cell_type": "code",
   "execution_count": 119,
   "id": "8fb1ec2c-23d9-4fb1-bf3e-b0fac02d4fa4",
   "metadata": {},
   "outputs": [
    {
     "name": "stdout",
     "output_type": "stream",
     "text": [
      "Hello\n"
     ]
    }
   ],
   "source": [
    "#AN EXCEPTION IS AN EVENT THAT OCCURS DURING THE EXECUTION OF A PROGRAM AND DISRUPTS TEH NORMAL FLOW \n",
    "if True:\n",
    "    print(\"Hello\")"
   ]
  },
  {
   "cell_type": "code",
   "execution_count": 131,
   "id": "6d92d023-177a-48cb-b71d-ab2a5975e87c",
   "metadata": {},
   "outputs": [
    {
     "name": "stdin",
     "output_type": "stream",
     "text": [
      "Enter a number .\n"
     ]
    },
    {
     "name": "stdout",
     "output_type": "stream",
     "text": [
      "You did not provide a integer\n"
     ]
    }
   ],
   "source": [
    "try:\n",
    "    a =int(input('Enter a number'))\n",
    "    b = 1/a\n",
    "    print(a)\n",
    "except ValueError:\n",
    "    print('You did not provide a integer')\n",
    "except ZeroDivisionError:\n",
    "    print('Div by 0 is not possible')\n",
    "except:\n",
    "    print('unknown')"
   ]
  },
  {
   "cell_type": "code",
   "execution_count": null,
   "id": "b90ec819-57d8-47bb-a67b-770939447750",
   "metadata": {},
   "outputs": [],
   "source": [
    "#60 built in exceptions"
   ]
  },
  {
   "cell_type": "code",
   "execution_count": 265,
   "id": "c08f0759-4f6e-4096-bc0a-d20342cbc170",
   "metadata": {},
   "outputs": [
    {
     "name": "stdin",
     "output_type": "stream",
     "text": [
      "Enter a name k\n"
     ]
    },
    {
     "ename": "SystemExit",
     "evalue": "",
     "output_type": "error",
     "traceback": [
      "An exception has occurred, use %tb to see the full traceback.\n",
      "\u001b[0;31mSystemExit\u001b[0m\n"
     ]
    }
   ],
   "source": [
    "import sys \n",
    "user = input('Enter a name')\n",
    "if user =='':\n",
    "    print('Invalid Input')\n",
    "sys.exit()"
   ]
  },
  {
   "cell_type": "code",
   "execution_count": 149,
   "id": "9537bbdb-92d8-4b13-a63e-9d2553e0fca7",
   "metadata": {},
   "outputs": [
    {
     "name": "stdout",
     "output_type": "stream",
     "text": [
      "0.2\n"
     ]
    }
   ],
   "source": [
    "#exceptions are propogated through function sin Python \n",
    "def inverse(op):\n",
    "    assert (op!=0), 'Got 0 as denominator!'\n",
    "    r = 1/op\n",
    "    print(r)\n",
    "\n",
    "inverse(5)\n",
    "\n",
    "#ASSERTIONS: THEY ARE USED TO DEBUG,TEST CODE & DOCUMENTING \n",
    "#DO NOT: HANDLE ASSERTIONS IN TRY EXCEPT & DO NOT USE THIS TO VALIDATE USER INPUT "
   ]
  },
  {
   "cell_type": "code",
   "execution_count": 151,
   "id": "744debd3-c68b-4004-a36f-35f4fc2bd025",
   "metadata": {},
   "outputs": [
    {
     "name": "stdout",
     "output_type": "stream",
     "text": [
      "65\n"
     ]
    }
   ],
   "source": [
    "def show():\n",
    "    print(val + 1, end='')\n",
    " \n",
    "val = 5\n",
    "show()\n",
    "print(val)"
   ]
  },
  {
   "cell_type": "code",
   "execution_count": 155,
   "id": "6e5c7182-2f07-4228-9227-fc3953ef9105",
   "metadata": {},
   "outputs": [
    {
     "name": "stdout",
     "output_type": "stream",
     "text": [
      "0\n"
     ]
    }
   ],
   "source": [
    "def a (u=0):\n",
    "    print(u)\n",
    "\n",
    "a()"
   ]
  },
  {
   "cell_type": "code",
   "execution_count": 277,
   "id": "9892299e-5691-4317-a620-ee7656d703ae",
   "metadata": {},
   "outputs": [
    {
     "name": "stdout",
     "output_type": "stream",
     "text": [
      "Nowhere to be found. :-(\n"
     ]
    }
   ],
   "source": [
    "values = [1,2,3,4]\n",
    "for i in values:\n",
    "    if i == 5:\n",
    "        print (\"Found it!\")\n",
    "        break\n",
    "else:\n",
    "    print (\"Nowhere to be found. :-(\")\n"
   ]
  },
  {
   "cell_type": "code",
   "execution_count": 305,
   "id": "f0c75337-a61c-487d-b649-2904c9bc8ce4",
   "metadata": {},
   "outputs": [
    {
     "name": "stdout",
     "output_type": "stream",
     "text": [
      "PrachiMegha"
     ]
    }
   ],
   "source": [
    "#if we are not sure of number of argumets = add * \n",
    "def kids(*args):\n",
    "    for i in args:\n",
    "        print(i,  end = '')\n",
    "\n",
    "kids('Prachi','Megha')"
   ]
  },
  {
   "cell_type": "code",
   "execution_count": 307,
   "id": "896060d4-9a90-4c94-8130-57822464926b",
   "metadata": {},
   "outputs": [
    {
     "name": "stdout",
     "output_type": "stream",
     "text": [
      "3\n",
      "3\n"
     ]
    }
   ],
   "source": [
    "#POSITIONAL ONLY ARGUMENTS -> ,/\n",
    "def my_function(x, /):\n",
    "  print(x)\n",
    "\n",
    "my_function(3)\n",
    "\n",
    "\n",
    "#KEYWORD ONLY ARGUMENT -> *,\n",
    "def my_function(*, x):\n",
    "  print(x)\n",
    "\n",
    "my_function(x = 3)"
   ]
  },
  {
   "cell_type": "code",
   "execution_count": 439,
   "id": "987bfe50-65a1-428a-a3a8-31d022f48d09",
   "metadata": {},
   "outputs": [
    {
     "name": "stdout",
     "output_type": "stream",
     "text": [
      "Ford\n",
      "Ford\n",
      "dict_keys(['brand', 'model', 'year'])\n",
      "dict_values(['Ford', 'Mustang', 1964])\n",
      "{'brand': 'fooord', 'model': 'Mustang', 'year': 1964}\n",
      "{'brand': 'fooord', 'model': 'Mustang', 'year': 1964, 'color': 'red'}\n",
      "{'brand': 'fooord', 'model': 'Mustang', 'year': '2024', 'color': 'red'}\n",
      "Key: Year exsists\n",
      "The following value exsist:  Mustang\n",
      "{'brand': 'fooord', 'model': 'Mustang', 'year': '2025'}\n",
      "{'brand': 'fooord', 'model': 'Mustang'}\n",
      "brand\n",
      "model\n",
      "year\n",
      "brand\n",
      "model\n",
      "year\n",
      "Ford\n",
      "Mustang\n",
      "1964\n",
      "Ford\n",
      "Mustang\n",
      "1964\n",
      "brand Ford\n",
      "model Mustang\n",
      "year 1964\n",
      "{'brand': 'Ford', 'model': 'Mustang', 'year': 1964}\n",
      "{'brand': 'Ford', 'model': 'Mustang', 'year': 1964}\n",
      "{'child1': {'name': 'Prachi', 'age': 27}, 'child2': {'name': 'Megha', 'age': 20}}\n",
      "Megha\n",
      "child1 {'name': 'Prachi', 'age': 27}\n",
      "Prachi\n",
      "27\n",
      "child2 {'name': 'Megha', 'age': 20}\n",
      "Megha\n",
      "20\n"
     ]
    }
   ],
   "source": [
    "#DICTONARY\n",
    "thisdict = {\n",
    "  \"brand\": \"Ford\",\n",
    "  \"model\": \"Mustang\",\n",
    "  \"year\": 1964\n",
    "}\n",
    "\n",
    "############### ACCESSING DICTS ############### \n",
    "x = thisdict['brand']\n",
    "print(x)\n",
    "\n",
    "x_new = thisdict.get('brand')\n",
    "print(x_new)\n",
    "\n",
    "x_new1 = thisdict.keys()\n",
    "print(x_new1)\n",
    "\n",
    "x_new1 = thisdict.values()\n",
    "print(x_new1)\n",
    "\n",
    "#we can change the value of a key \n",
    "thisdict['brand'] = 'fooord'\n",
    "print(thisdict)\n",
    "\n",
    "#add a new key \n",
    "thisdict['color'] = 'red'\n",
    "print(thisdict)\n",
    "\n",
    "# to fetch every key-value apir and return as a tuples in a list \n",
    "thisdict.items()\n",
    "\n",
    "#change existing Keys value\n",
    "thisdict['year'] = '2024'\n",
    "print(thisdict)\n",
    "\n",
    "#to check if a key exists \n",
    "if 'year' in thisdict:\n",
    "    print('Key: Year exsists')\n",
    "\n",
    "#to check if value exists \n",
    "value = 'Mustang' \n",
    "if value in thisdict.values():\n",
    "    print('The following value exsist: ',value)\n",
    "\n",
    "\n",
    "############### CHANGE IETMS IN DICTS ############### \n",
    "#1. UPDATE \n",
    "thisdict.update({'year': '2025'})\n",
    "thisdict['year'] = '2025'\n",
    "\n",
    "############### REMOVE IETMS IN DICTS ############### \n",
    "#2.POP\n",
    "thisdict.pop('color')\n",
    "print(thisdict)\n",
    "\n",
    "#3.DEL\n",
    "del thisdict['year']\n",
    "print(thisdict)\n",
    "\n",
    "#4.clear - will empty out teh dict \n",
    "#thisdict.clear()\n",
    "#print(thisdict)\n",
    "\n",
    "############### LOOP THROUGH DICTS ############### \n",
    "thisdict = {\n",
    "  \"brand\": \"Ford\",\n",
    "  \"model\": \"Mustang\",\n",
    "  \"year\": 1964\n",
    "}\n",
    "#Method 1 : to fetch keys \n",
    "for i in thisdict:\n",
    "    print(i )\n",
    "for keys in thisdict.keys():\n",
    "    print (keys)\n",
    "\n",
    "#Method 2: To fetch values \n",
    "for y in thisdict:\n",
    "    print(thisdict[y])\n",
    "for values in thisdict.values():\n",
    "    print(values)\n",
    "\n",
    "for a,b in thisdict.items():\n",
    "    print(a,b)\n",
    "\n",
    "\n",
    "############### COPY DICT ############### \n",
    "#method 1 \n",
    "thisdict_new = thisdict.copy()\n",
    "print(thisdict_new)\n",
    "\n",
    "#method 2\n",
    "thisdict_new_01 = dict(thisdict)\n",
    "print(thisdict_new_01)\n",
    "\n",
    "############### SET ############### \n",
    "fruits = {'apple', 'cherry', 'grapes'}\n",
    "type(fruits)\n",
    "\n",
    "############### NESTED DICT ############### \n",
    "dict1  = {'name':'Prachi', 'age':27}\n",
    "dict2  = {'name':'Megha', 'age':20}\n",
    "dict_details = {'child1': dict1\n",
    "                , 'child2':dict2}\n",
    "print(dict_details)\n",
    "\n",
    "#Question: print the name of second child \n",
    "print(dict_details['child2']['name'])\n",
    "\n",
    "#loop through nested dict \n",
    "for i,j in dict_details.items():\n",
    "    print(i,j)\n",
    "    for k in j:\n",
    "        print(j[k])\n",
    "\n",
    "\n",
    "############### METHODS ############### \n",
    "#keys()\n",
    "#values()\n",
    "#items()\n",
    "#clear()\n",
    "#del \n",
    "#pop()\n",
    "#popitem()\n",
    "#get()\n",
    "#update()"
   ]
  },
  {
   "cell_type": "code",
   "execution_count": 441,
   "id": "b048ef4a-1e1d-47eb-a960-299edf64b801",
   "metadata": {},
   "outputs": [
    {
     "name": "stdout",
     "output_type": "stream",
     "text": [
      "{True, 2, 'cherry', 'apple', 'banana'}\n"
     ]
    }
   ],
   "source": [
    "#SETS\n",
    "\n",
    "thisset = {\"apple\", \"banana\", \"cherry\", True, 1, 2}\n",
    "print(thisset)\n",
    "#TRUE = 1 \n",
    "'''\n",
    "methods \n",
    "1. thisset.remove('apple') #if value does not exists = this will throw an error, but discard() will not \n",
    "2. thisset.discard('apple')\n",
    "3. thisset.pop('apple') #this will remove any randon element \n",
    "4. thissset.clear() #this will empty the set \n",
    "5. del thisset #this will delete the entire set \n",
    "'''"
   ]
  },
  {
   "cell_type": "code",
   "execution_count": 455,
   "id": "bd8f3d01-567c-473e-b605-dac154b777a1",
   "metadata": {},
   "outputs": [
    {
     "name": "stdout",
     "output_type": "stream",
     "text": [
      "{'b', 1, 'a', 2, 3, 'c'}\n",
      "{'b', 1, 'a', 2, 3, 'c'}\n"
     ]
    }
   ],
   "source": [
    "'''\n",
    "Note:\n",
    "#6.The union() and update() methods joins all items from both sets.\n",
    "#7. The intersection() method keeps ONLY the duplicates.\n",
    "#8.The difference() method keeps the items from the first set that are not in the other set(s).\n",
    "#9.The symmetric_difference() method keeps all items EXCEPT the duplicates.\n",
    "'''\n",
    "set1 = {\"a\", \"b\", \"c\"}\n",
    "set2 = {1, 2, 3}\n",
    "\n",
    "set3 = set1.union(set2)\n",
    "print(set3)\n",
    "\n",
    "set4 = set1 | set2\n",
    "print(set4)\n"
   ]
  },
  {
   "cell_type": "code",
   "execution_count": 461,
   "id": "0b68cf19-09be-43b7-9932-819b53b58550",
   "metadata": {},
   "outputs": [
    {
     "name": "stdout",
     "output_type": "stream",
     "text": [
      "{1, 2, 'a', 3, 'c', 'b'}\n",
      "{'apple'}\n",
      "{'apple'}\n"
     ]
    }
   ],
   "source": [
    "x = {\"a\", \"b\", \"c\"} #set\n",
    "y = (1, 2, 3) #tuple\n",
    "\n",
    "z = x.union(y) #will result in a set \n",
    "print(z)\n",
    "'''\n",
    "Note: \n",
    "The  | operator only allows you to join sets with sets, and not with other data types like you can with the  union() method.\n",
    "'''\n",
    "\n",
    "#INTERSECTION\n",
    "set1 = {\"apple\", \"banana\", \"cherry\"}\n",
    "set2 = {\"google\", \"microsoft\", \"apple\"}\n",
    "\n",
    "set3 = set1.intersection(set2)\n",
    "print(set3)\n",
    "\n",
    "\n",
    "set1 = {\"apple\", \"banana\", \"cherry\"}\n",
    "set2 = {\"google\", \"microsoft\", \"apple\"}\n",
    "\n",
    "set3 = set1 & set2\n",
    "print(set3)"
   ]
  },
  {
   "cell_type": "code",
   "execution_count": null,
   "id": "7432a2a6-5164-4571-9ec1-cd268cd8f41d",
   "metadata": {},
   "outputs": [],
   "source": [
    "#TUPLES\n",
    "#ORDERED, IMMUATBLE, ALLOWS DUPLICATES "
   ]
  },
  {
   "cell_type": "code",
   "execution_count": 1,
   "id": "e224522f-6f0d-4a1d-9246-f58532e33828",
   "metadata": {},
   "outputs": [
    {
     "name": "stdout",
     "output_type": "stream",
     "text": [
      "('apple', 'banana', 'cherry', 'apple', 'cherry')\n"
     ]
    }
   ],
   "source": [
    "thistuple = (\"apple\", \"banana\", \"cherry\", \"apple\", \"cherry\")\n",
    "print(thistuple)"
   ]
  },
  {
   "cell_type": "code",
   "execution_count": 21,
   "id": "2a112080-8345-4809-9310-76b7b04b7adc",
   "metadata": {},
   "outputs": [
    {
     "name": "stdout",
     "output_type": "stream",
     "text": [
      "Prachi\n",
      "('Prachi', 'Megha')\n",
      "Prachi\n",
      "('banana', 'cherry')\n",
      "Present\n"
     ]
    }
   ],
   "source": [
    "#For a single item tuple-> add a comma \n",
    "tu = ('Prachi')\n",
    "print(tu)\n",
    "\n",
    "#Tuple construct \n",
    "du = tuple(('Prachi','Megha'))\n",
    "print(du)\n",
    "\n",
    "#Access tuples \n",
    "print(du[0])\n",
    "print(thistuple[1:3])\n",
    "\n",
    "if 'Prachi' in du:\n",
    "    print('Present')"
   ]
  },
  {
   "cell_type": "code",
   "execution_count": 31,
   "id": "b0409caf-3a72-447c-a86b-f3d719cd3512",
   "metadata": {},
   "outputs": [
    {
     "name": "stdout",
     "output_type": "stream",
     "text": [
      "['Prachi', 'Megha']\n",
      "['Soro', 'Megha']\n",
      "('Soro', 'Megha')\n"
     ]
    }
   ],
   "source": [
    "#you can change the tuple to a list and then rev it back to a tuple \n",
    "list_du = list(du)\n",
    "print(list_du)\n",
    "\n",
    "list_du[0] = 'Soro'\n",
    "print(list_du)\n",
    "\n",
    "tuple_du = tuple(list_du)\n",
    "print(tuple_du)\n"
   ]
  },
  {
   "cell_type": "code",
   "execution_count": 41,
   "id": "3221beae-09ff-43ca-a5cc-4e79afe86b8a",
   "metadata": {},
   "outputs": [
    {
     "name": "stdout",
     "output_type": "stream",
     "text": [
      "(1, 2, 3, 4)\n"
     ]
    }
   ],
   "source": [
    "# Original tuple\n",
    "my_tuple = (1, 2, 3)\n",
    "\n",
    "# Adding an element (4) to the tuple\n",
    "new_tuple = my_tuple + (4,)\n",
    "\n",
    "print(new_tuple)"
   ]
  },
  {
   "cell_type": "code",
   "execution_count": 51,
   "id": "bfe4f539-caac-4e41-9236-e6ba975d1642",
   "metadata": {},
   "outputs": [
    {
     "name": "stdout",
     "output_type": "stream",
     "text": [
      "('apple', 'banana', 'cherry')\n",
      "apple\n",
      "banana\n",
      "cherry\n"
     ]
    }
   ],
   "source": [
    "#unpacking a tuple \n",
    "fruits = (\"apple\", \"banana\", \"cherry\")\n",
    "print(fruits)\n",
    "\n",
    "(green, yellow, red) = fruits\n",
    "\n",
    "print(green)\n",
    "print(yellow)\n",
    "print(red)"
   ]
  },
  {
   "cell_type": "code",
   "execution_count": 67,
   "id": "6f3e1213-7f92-465b-a3cd-0b76226dd361",
   "metadata": {},
   "outputs": [
    {
     "name": "stdout",
     "output_type": "stream",
     "text": [
      "apple\n",
      "banana\n",
      "['cherry', 'kiwi', 'mango']\n",
      "apple\n",
      "['banana', 'cherry', 'kiwi']\n",
      "mango\n"
     ]
    }
   ],
   "source": [
    "#unpacking a tuple when you dont know thw no of elements \n",
    "fruits1 = (\"apple\", \"banana\", \"cherry\",\"kiwi\",\"mango\")\n",
    "fruits2 = (\"apple\", \"banana\", \"cherry\",\"kiwi\",\"mango\")\n",
    "\n",
    "(green1, yellow1, *red1) = fruits1\n",
    "(green2, *yellow2, red2) = fruits2\n",
    "\n",
    "print(green1)\n",
    "print(yellow1)\n",
    "print(red1)\n",
    "\n",
    "print(green2)\n",
    "print(yellow2)\n",
    "print(red2)"
   ]
  },
  {
   "cell_type": "code",
   "execution_count": 77,
   "id": "cae7eb9a-39ad-4992-82c5-ec4f7bdb5cea",
   "metadata": {},
   "outputs": [
    {
     "name": "stdout",
     "output_type": "stream",
     "text": [
      "apple\n",
      "banana\n",
      "cherry\n"
     ]
    }
   ],
   "source": [
    "#loop through tuples : FOR loop\n",
    "for i in range(len(fruits)):\n",
    "    print(fruits[i])"
   ]
  },
  {
   "cell_type": "code",
   "execution_count": 79,
   "id": "e0f4bdad-1424-43eb-91fd-97238c5056de",
   "metadata": {},
   "outputs": [
    {
     "name": "stdout",
     "output_type": "stream",
     "text": [
      "apple\n",
      "banana\n",
      "cherry\n",
      "kiwi\n",
      "mango\n"
     ]
    }
   ],
   "source": [
    "#loop through tuples : WHILE loop\n",
    "i=0 \n",
    "while i<len(fruits1):\n",
    "    print(fruits1[i])\n",
    "    i = i+1"
   ]
  },
  {
   "cell_type": "code",
   "execution_count": 85,
   "id": "9bc5360f-22a0-4f63-8fe4-c3327f5055a7",
   "metadata": {},
   "outputs": [
    {
     "name": "stdout",
     "output_type": "stream",
     "text": [
      "('a', 'b', 1, 2)\n",
      "('a', 'b', 'a', 'b')\n"
     ]
    }
   ],
   "source": [
    "#join 2 tuples\n",
    "f1 = ('a','b')\n",
    "f2 = (1,2)\n",
    "f3 = f1 +f2\n",
    "print(f3)\n",
    "\n",
    "f4 = f1*2\n",
    "print(f4)"
   ]
  },
  {
   "cell_type": "code",
   "execution_count": 89,
   "id": "eb3cd056-49c9-4b1d-807a-4e8401e04e74",
   "metadata": {},
   "outputs": [
    {
     "name": "stdout",
     "output_type": "stream",
     "text": [
      "2\n",
      "3\n"
     ]
    }
   ],
   "source": [
    "#2 methods for tuple \n",
    "'''\n",
    "1. count()\n",
    "2.index()\n",
    "'''\n",
    "\n",
    "thistuple = (1, 3, 7, 8, 7, 5, 4, 6, 8, 5)\n",
    "x = thistuple.count(5)\n",
    "print(x)\n",
    "\n",
    "thistuple = (1, 3, 7, 8, 7, 5, 4, 6, 8, 5)\n",
    "x = thistuple.index(8)\n",
    "print(x)"
   ]
  },
  {
   "cell_type": "code",
   "execution_count": 97,
   "id": "ab206ca1-98e6-47a1-8583-02614d0d5e9e",
   "metadata": {},
   "outputs": [
    {
     "name": "stdout",
     "output_type": "stream",
     "text": [
      "I am 27 years old\n",
      "I will be 28 next year\n",
      "I am a \"girls\" girl\n"
     ]
    }
   ],
   "source": [
    "#fstrings \n",
    "age = 27 \n",
    "str = f\"I am {age} years old\"\n",
    "str1 =  f\"I will be {age+1} next year\"\n",
    "str2 = 'I am a \\\"girls\\\" girl'\n",
    "print(str)\n",
    "print(str1)\n",
    "print(str2)"
   ]
  },
  {
   "cell_type": "code",
   "execution_count": null,
   "id": "dca7cf2d-1f88-4447-a6c3-5c15b126127c",
   "metadata": {},
   "outputs": [],
   "source": []
  }
 ],
 "metadata": {
  "kernelspec": {
   "display_name": "Python 3 (ipykernel)",
   "language": "python",
   "name": "python3"
  },
  "language_info": {
   "codemirror_mode": {
    "name": "ipython",
    "version": 3
   },
   "file_extension": ".py",
   "mimetype": "text/x-python",
   "name": "python",
   "nbconvert_exporter": "python",
   "pygments_lexer": "ipython3",
   "version": "3.12.4"
  }
 },
 "nbformat": 4,
 "nbformat_minor": 5
}
